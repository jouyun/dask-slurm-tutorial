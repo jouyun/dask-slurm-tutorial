{
 "cells": [
  {
   "cell_type": "code",
   "execution_count": 1,
   "metadata": {},
   "outputs": [],
   "source": [
    "import numpy as np\n",
    "\n",
    "import dask\n",
    "import dask.array as da"
   ]
  },
  {
   "cell_type": "code",
   "execution_count": 2,
   "metadata": {},
   "outputs": [
    {
     "name": "stdout",
     "output_type": "stream",
     "text": [
      "<Client: 'tcp://10.0.53.59:33155' processes=0 threads=0, memory=0 B>\n"
     ]
    }
   ],
   "source": [
    "from dask_jobqueue import SLURMCluster\n",
    "from dask.distributed import Client\n",
    "import time\n",
    "\n",
    "cluster = SLURMCluster(\n",
    "    cores=18,                      # Number of cores per job\n",
    "    memory=\"256GB\",                # Memory per job\n",
    "    account=\"smc\",     # Project/account name\n",
    "    queue=\"compute\",         # Queue/partition name\n",
    "    walltime=\"02:00:00\",           # Job time limit\n",
    "    local_directory=\"$TMPDIR\",     # Temporary directory (optional)\n",
    "    log_directory=\"logs\",          # Directory for log files (optional)\n",
    ")\n",
    "\n",
    "client = Client(cluster)\n",
    "print(client)\n",
    "\n",
    "cluster.scale(jobs=24)  # Request 4 jobs"
   ]
  },
  {
   "cell_type": "code",
   "execution_count": 3,
   "metadata": {},
   "outputs": [
    {
     "name": "stdout",
     "output_type": "stream",
     "text": [
      "http://10.0.53.59:8787/status\n"
     ]
    }
   ],
   "source": [
    "print(cluster.dashboard_link)"
   ]
  },
  {
   "cell_type": "code",
   "execution_count": 6,
   "metadata": {},
   "outputs": [
    {
     "name": "stdout",
     "output_type": "stream",
     "text": [
      "dask.array<random_sample, shape=(50, 40000, 40000), dtype=float64, chunksize=(50, 2000, 2000), chunktype=numpy.ndarray>\n"
     ]
    }
   ],
   "source": [
    "# Create a random Dask array\n",
    "x = da.random.random((500, 40000, 40000), chunks=(1000, 2000, 2000))\n",
    "print(x)\n",
    "\n",
    "# Perform a computation\n",
    "y = x.mean()"
   ]
  },
  {
   "cell_type": "code",
   "execution_count": 7,
   "metadata": {},
   "outputs": [
    {
     "name": "stdout",
     "output_type": "stream",
     "text": [
      "CPU times: user 2.14 s, sys: 121 ms, total: 2.26 s\n",
      "Wall time: 15.8 s\n"
     ]
    },
    {
     "data": {
      "text/plain": [
       "0.5000004424134309"
      ]
     },
     "execution_count": 7,
     "metadata": {},
     "output_type": "execute_result"
    }
   ],
   "source": [
    "%%time\n",
    "y.compute()"
   ]
  },
  {
   "cell_type": "code",
   "execution_count": 19,
   "metadata": {},
   "outputs": [],
   "source": [
    "client.close()\n",
    "cluster.close()\n"
   ]
  },
  {
   "cell_type": "markdown",
   "metadata": {},
   "source": [
    "Write out the results to csv"
   ]
  }
 ],
 "metadata": {
  "kernelspec": {
   "display_name": "Python 3 (ipykernel)",
   "language": "python",
   "name": "python3"
  },
  "language_info": {
   "codemirror_mode": {
    "name": "ipython",
    "version": 3
   },
   "file_extension": ".py",
   "mimetype": "text/x-python",
   "name": "python",
   "nbconvert_exporter": "python",
   "pygments_lexer": "ipython3",
   "version": "3.9.16"
  },
  "vscode": {
   "interpreter": {
    "hash": "543682d192a3eb24983b806d8e0c4f2b0f4ca802b12b760682030aef84cd3b78"
   }
  }
 },
 "nbformat": 4,
 "nbformat_minor": 4
}
