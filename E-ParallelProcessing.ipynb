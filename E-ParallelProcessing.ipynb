{
 "cells": [
  {
   "cell_type": "code",
   "execution_count": 1,
   "metadata": {},
   "outputs": [],
   "source": [
    "import numpy as np\n",
    "import skimage\n",
    "import imageio\n",
    "import scipy as sp\n",
    "import pandas as pd\n",
    "import matplotlib.pyplot as plt\n",
    "import skimage.feature as ft\n",
    "\n",
    "import os\n",
    "from os import path\n",
    "\n",
    "import pandas as pd\n",
    "import numpy as np\n",
    "\n",
    "import tifffile\n",
    "import glob\n",
    "import cv2\n",
    "import dask\n",
    "import skimage as ski\n",
    "import scipy.ndimage as ndi\n",
    "#import functions as process\n",
    "import skimage as ski\n"
   ]
  },
  {
   "cell_type": "code",
   "execution_count": 2,
   "metadata": {},
   "outputs": [],
   "source": [
    "current_threshold = 2.2"
   ]
  },
  {
   "cell_type": "code",
   "execution_count": 3,
   "metadata": {},
   "outputs": [
    {
     "name": "stdout",
     "output_type": "stream",
     "text": [
      "S:/micro/jeg/ag2588/mel/24M6_oocyte_ribosomes/20250512_TAL_24M6-4c_gridA2/maps/24M6-4c_gridA2/LayersData/Layer/ROI (2)/\n",
      "S:/micro/jeg/ag2588/mel/24M6_oocyte_ribosomes/20250506_TAL_24M6-4C_gridB1/maps/20250506_24M6-4C_gridB1/LayersData/Layer/ROI (3)/\n",
      "S:/micro/jeg/ag2588/mel/24M6_oocyte_ribosomes/20250508_TAL_24M6-10B_gridC2/maps/24M6-10B_gridC2/LayersData/Layer/ROI (3)/\n",
      "S:/micro/jeg/ag2588/mel/24M6_oocyte_ribosomes/20250512_TAL_24M6-4c_gridA2/maps/24M6-4c_gridA2/LayersData/Layer/ROI (3)/\n",
      "S:/micro/jeg/ag2588/mel/24M6_oocyte_ribosomes/20250508_TAL_24M6-10B_gridC2/maps/24M6-10B_gridC2/LayersData/Layer/ROI (2)/\n",
      "S:/micro/jeg/ag2588/mel/24M6_oocyte_ribosomes/20250530_TAL_24M6-4c_gridA2_oocyte1/LayersData/Layer/ROI (2)/\n",
      "S:/micro/jeg/ag2588/mel/24M6_oocyte_ribosomes/20250722_TAL_24M6-10b/24M6-10b_2/LayersData/Layer/ROI (2)/\n",
      "S:/micro/jeg/ag2588/mel/24M6_oocyte_ribosomes/20250722_TAL_24M6-10b/24M6-10b_2/LayersData/Layer/ROI (3)/\n",
      "4414\n"
     ]
    }
   ],
   "source": [
    "folder_list = ['S:/micro/jeg/ag2588/mel/24M6_oocyte_ribosomes/20250512_TAL_24M6-4c_gridA2/maps/24M6-4c_gridA2/LayersData/Layer/ROI (2)/', 'S:/micro/jeg/ag2588/mel/24M6_oocyte_ribosomes/20250506_TAL_24M6-4C_gridB1/maps/20250506_24M6-4C_gridB1/LayersData/Layer/ROI (3)/',\n",
    "'S:/micro/jeg/ag2588/mel/24M6_oocyte_ribosomes/20250508_TAL_24M6-10B_gridC2/maps/24M6-10B_gridC2/LayersData/Layer/ROI (3)/', 'S:/micro/jeg/ag2588/mel/24M6_oocyte_ribosomes/20250512_TAL_24M6-4c_gridA2/maps/24M6-4c_gridA2/LayersData/Layer/ROI (3)/',\n",
    "'S:/micro/jeg/ag2588/mel/24M6_oocyte_ribosomes/20250508_TAL_24M6-10B_gridC2/maps/24M6-10B_gridC2/LayersData/Layer/ROI (2)/', 'S:/micro/jeg/ag2588/mel/24M6_oocyte_ribosomes/20250530_TAL_24M6-4c_gridA2_oocyte1/LayersData/Layer/ROI (2)/', 'S:/micro/jeg/ag2588/mel/24M6_oocyte_ribosomes/20250722_TAL_24M6-10b/24M6-10b_2/LayersData/Layer/ROI (2)/',\n",
    "'S:/micro/jeg/ag2588/mel/24M6_oocyte_ribosomes/20250722_TAL_24M6-10b/24M6-10b_2/LayersData/Layer/ROI (3)/']\n",
    "\n",
    "fnames = []\n",
    "for folder in folder_list:\n",
    "    print(folder)\n",
    "    fnames.extend(glob.glob(folder + '*.tif'))\n",
    "\n",
    "fnames.sort()\n",
    "print(len(fnames))\n",
    "fnames = fnames[0:1000]"
   ]
  },
  {
   "cell_type": "code",
   "execution_count": 4,
   "metadata": {},
   "outputs": [],
   "source": [
    "def load_image(fname):\n",
    "    rtn = ski.io.imread(fname)\n",
    "    img = rtn\n",
    "    img = img.astype(np.float32)\n",
    "    min = np.percentile(img, .1)\n",
    "    max = np.percentile(img, 99.9)\n",
    "    img = (img - min) / (max - min)\n",
    "    img = np.clip(img, 0, 1)\n",
    "    return img"
   ]
  },
  {
   "cell_type": "code",
   "execution_count": 5,
   "metadata": {},
   "outputs": [],
   "source": [
    "def process_file(fname, display=False, viewer=None, p0_thresh=current_threshold):\n",
    "    # img = ski.io.imread(fname)[0:3770,:,0]\n",
    "    # img = img.astype(np.float32)\n",
    "    img = load_image(fname)\n",
    "    img = cv2.GaussianBlur(img, (0, 0), 2)\n",
    "    LoG0 = ndi.gaussian_laplace(img*1000.0, sigma=8)\n",
    "    pts0 = ski.feature.peak_local_max(LoG0, min_distance=5, threshold_abs=p0_thresh)\n",
    "\n",
    "    if display:\n",
    "        viewer.layers.clear()\n",
    "        viewer.add_image(img, name='img', contrast_limits=[0, 1])\n",
    "        viewer.add_image(LoG0, name='LoG0', visible=False)\n",
    "        viewer.add_points(pts0, name='pts0', size=20, face_color='blue')\n",
    "    df = pd.DataFrame(pts0, columns=['y', 'x'])\n",
    "    df['fname'] = fname\n",
    "    df['intensity'] = LoG0[pts0[:,0], pts0[:,1]]\n",
    "    df['p90'] = np.percentile(LoG0, 90)\n",
    "    df['p99'] = np.percentile(LoG0, 99)\n",
    "    df['p999'] = np.percentile(LoG0, 99.9)\n",
    "    df['p10'] = np.percentile(LoG0, 10)\n",
    "    return df"
   ]
  },
  {
   "cell_type": "code",
   "execution_count": 6,
   "metadata": {},
   "outputs": [
    {
     "name": "stdout",
     "output_type": "stream",
     "text": [
      "CPU times: total: 18min 46s\n",
      "Wall time: 1min 10s\n"
     ]
    }
   ],
   "source": [
    "%%time\n",
    "using_dask = True # If this is False, takes 12 minutes\n",
    "all_data=[]\n",
    "\n",
    "if using_dask:\n",
    "    delayed = dask.delayed(process_file)\n",
    "    for i, f in enumerate(fnames):\n",
    "        all_data.append(delayed(f))\n",
    "    all_data = dask.compute(*all_data)  \n",
    "else:\n",
    "    for i, f in enumerate(fnames):\n",
    "        all_data.append(process_file(f))\n",
    "        print([np.floor(i*100.0/len(fnames)), f])"
   ]
  },
  {
   "cell_type": "code",
   "execution_count": 7,
   "metadata": {},
   "outputs": [],
   "source": [
    "df = pd.concat(all_data)\n"
   ]
  },
  {
   "cell_type": "code",
   "execution_count": null,
   "metadata": {},
   "outputs": [],
   "source": []
  },
  {
   "cell_type": "code",
   "execution_count": null,
   "metadata": {},
   "outputs": [],
   "source": []
  },
  {
   "cell_type": "code",
   "execution_count": null,
   "metadata": {},
   "outputs": [],
   "source": []
  },
  {
   "cell_type": "code",
   "execution_count": null,
   "metadata": {},
   "outputs": [],
   "source": []
  }
 ],
 "metadata": {
  "kernelspec": {
   "display_name": "napari2",
   "language": "python",
   "name": "python3"
  },
  "language_info": {
   "codemirror_mode": {
    "name": "ipython",
    "version": 3
   },
   "file_extension": ".py",
   "mimetype": "text/x-python",
   "name": "python",
   "nbconvert_exporter": "python",
   "pygments_lexer": "ipython3",
   "version": "3.12.11"
  }
 },
 "nbformat": 4,
 "nbformat_minor": 4
}
